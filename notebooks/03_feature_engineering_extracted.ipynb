{
 "cells": [
  {
   "cell_type": "markdown",
   "id": "78c34c1b",
   "metadata": {},
   "source": [
    " ## 03_feature_engineering.ipynb\n",
    " - Step 3: Feature Engineering\n",
    " - ----------------------------------------------------\n",
    " - In this notebook, we will transform the cleaned data into model-friendly features.\n",
    " - The output will be X (features) and y (target) stored as CSV files for use in Step 4.\n"
   ]
  },
  {
   "cell_type": "markdown",
   "id": "1542e85f",
   "metadata": {},
   "source": [
    "## 1. Import required libraries"
   ]
  },
  {
   "cell_type": "code",
   "execution_count": 13,
   "id": "8c2b31bc",
   "metadata": {},
   "outputs": [
    {
     "name": "stdout",
     "output_type": "stream",
     "text": [
      "Successfully imported!\n"
     ]
    }
   ],
   "source": [
    "import pandas as pd\n",
    "import numpy as np\n",
    "\n",
    "print(\"Successfully imported!\")"
   ]
  },
  {
   "cell_type": "markdown",
   "id": "39bf082c",
   "metadata": {},
   "source": [
    "## Step 2: Load cleaned dataset\n",
    "We start by loading the `cleaned_data.csv` file that was prepared in Step 1 (01_data_cleaning.ipynb).\n"
   ]
  },
  {
   "cell_type": "code",
   "execution_count": null,
   "id": "b9ce8b48",
   "metadata": {},
   "outputs": [],
   "source": [
    "import os\n",
    "print(os.getcwd())\n",
    "\n",
    "df = pd.read_csv('../data/processed/laptop_price_clean.csv', encoding='latin1')\n",
    "\n",
    "# Quick check of the dataset\n",
    "df.head()\n"
   ]
  },
  {
   "cell_type": "markdown",
   "id": "693c3f5d",
   "metadata": {},
   "source": [
    "## Step 3: Feature Transformation\n",
    "Now we will create new features from existing columns so that machine learning models can work effectively.\n"
   ]
  },
  {
   "cell_type": "markdown",
   "id": "fd61da0b",
   "metadata": {},
   "source": [
    "### 3.1 Convert RAM to numeric (GB)\n",
    "Often, RAM is written like \"8GB\" → we need just the numeric part.\n",
    "\n"
   ]
  },
  {
   "cell_type": "code",
   "execution_count": null,
   "id": "fdec17f6",
   "metadata": {},
   "outputs": [],
   "source": [
    "# Remove \"GB\" and convert RAM to integer\n",
    "df[\"Ram_GB\"] = df[\"Ram\"].str.replace(\"GB\", \"\").astype(int)\n",
    "\n",
    "df[[\"Ram\", \"Ram_GB\"]].head()\n"
   ]
  },
  {
   "cell_type": "markdown",
   "id": "ccc7d030",
   "metadata": {},
   "source": [
    "### 3.2 Convert Weight to numeric (kg)\n",
    "Weights may be in string form like \"2.3kg\". We'll extract the numeric part.\n"
   ]
  },
  {
   "cell_type": "code",
   "execution_count": null,
   "id": "3fb7dfd6",
   "metadata": {},
   "outputs": [],
   "source": [
    "# Remove \"kg\" from the Weight column and convert it to float\n",
    "df[\"Weight_kg\"] = df[\"Weight\"].str.replace(\"kg\", \"\").astype(float)\n",
    "\n",
    "# Check the transformation\n",
    "df[[\"Weight\", \"Weight_kg\"]].head()\n"
   ]
  },
  {
   "cell_type": "markdown",
   "id": "eb222f81",
   "metadata": {},
   "source": [
    "### 3.3 Compute Pixels Per Inch (PPI)\n",
    "Resolution + screen size → PPI, a better feature than resolution alone.\n"
   ]
  },
  {
   "cell_type": "code",
   "execution_count": null,
   "id": "077ff157",
   "metadata": {},
   "outputs": [],
   "source": [
    "# Split resolution into Screen Width and Height (e.g. \"1920x1080\" → 1920, 1080)\n",
    "df[[\"Screen_W\", \"Screen_H\"]] = df[\"Resolution\"].str.split(\"x\", expand=True).astype(int)\n",
    "\n",
    "# Calculate PPI using the formula: sqrt(W^2 + H^2) / Inches\n",
    "df[\"PPI\"] = (((df[\"Screen_W\"]**2 + df[\"Screen_H\"]**2) ** 0.5) / df[\"Inches\"]).astype(float)\n",
    "\n",
    "# Check result\n",
    "df[[\"Resolution\", \"Inches\", \"PPI\"]].head()\n"
   ]
  },
  {
   "cell_type": "markdown",
   "id": "3aaeef70",
   "metadata": {},
   "source": [
    "### 3.4 Extract CPU Brand\n",
    "Instead of raw CPU names, extract brand/tier for simplification.\n"
   ]
  },
  {
   "cell_type": "code",
   "execution_count": null,
   "id": "7144615f",
   "metadata": {},
   "outputs": [],
   "source": [
    "# Function to categorize CPU into broad brands\n",
    "def extract_cpu_brand(cpu_name):\n",
    "    cpu_name = cpu_name.lower()\n",
    "    if \"intel\" in cpu_name:\n",
    "        return \"Intel\"\n",
    "    elif \"amd\" in cpu_name:\n",
    "        return \"AMD\"\n",
    "    elif \"apple\" in cpu_name:\n",
    "        return \"Apple\"\n",
    "    else:\n",
    "        return \"Other\"\n",
    "\n",
    "# Apply function to CPU column\n",
    "df[\"Cpu_Brand\"] = df[\"Cpu\"].apply(extract_cpu_brand)\n",
    "\n",
    "# Check result\n",
    "df[[\"Cpu\", \"Cpu_Brand\"]].head()\n"
   ]
  },
  {
   "cell_type": "markdown",
   "id": "84bc1f31",
   "metadata": {},
   "source": [
    "### 3.5 Extract GPU Brand\n",
    "Same logic for GPUs.\n"
   ]
  },
  {
   "cell_type": "code",
   "execution_count": null,
   "id": "a708d80c",
   "metadata": {},
   "outputs": [],
   "source": [
    "# Function to categorize GPU into broad brands\n",
    "def extract_gpu_brand(gpu_name):\n",
    "    gpu_name = gpu_name.lower()\n",
    "    if \"nvidia\" in gpu_name:\n",
    "        return \"Nvidia\"\n",
    "    elif \"amd\" in gpu_name:\n",
    "        return \"AMD\"\n",
    "    elif \"intel\" in gpu_name:\n",
    "        return \"Intel\"\n",
    "    else:\n",
    "        return \"Other\"\n",
    "\n",
    "# Apply function to GPU column\n",
    "df[\"Gpu_Brand\"] = df[\"Gpu\"].apply(extract_gpu_brand)\n",
    "\n",
    "# Check result\n",
    "df[[\"Gpu\", \"Gpu_Brand\"]].head()\n"
   ]
  },
  {
   "cell_type": "markdown",
   "id": "05b13261",
   "metadata": {},
   "source": [
    "### 3.6 Storage Flags (SSD / HDD)\n",
    "Storage strings like \"512GB SSD + 1TB HDD\" → we make separate numeric flags.\n"
   ]
  },
  {
   "cell_type": "code",
   "execution_count": null,
   "id": "fd13fe02",
   "metadata": {},
   "outputs": [],
   "source": [
    "# Helper function to extract storage size in GB for a given keyword (SSD/HDD)\n",
    "def check_storage(storage, keyword):\n",
    "    storage = storage.lower()\n",
    "    if keyword in storage:\n",
    "        for part in storage.split(\"+\"):       # Handle multiple drives (e.g. SSD + HDD)\n",
    "            if keyword in part:\n",
    "                num = part.strip().split(\" \")[0]  # Extract size (e.g. \"512GB\")\n",
    "                if \"tb\" in num:                   # Convert TB to GB\n",
    "                    return int(float(num.replace(\"tb\", \"\")) * 1024)\n",
    "                elif \"gb\" in num:\n",
    "                    return int(num.replace(\"gb\", \"\"))\n",
    "    return 0\n",
    "\n",
    "# Create separate columns for SSD and HDD\n",
    "df[\"SSD_GB\"] = df[\"Storage\"].apply(lambda x: check_storage(x, \"ssd\"))\n",
    "df[\"HDD_GB\"] = df[\"Storage\"].apply(lambda x: check_storage(x, \"hdd\"))\n",
    "\n",
    "# Check results\n",
    "df[[\"Storage\", \"SSD_GB\", \"HDD_GB\"]].head()\n"
   ]
  },
  {
   "cell_type": "markdown",
   "id": "94fd092d",
   "metadata": {},
   "source": [
    "### 3.7 Simplify Operating System\n",
    "We don’t need full names like \"Windows 10 Home\" vs \"Windows 10 Pro\". Just \"Windows\", \"MacOS\", \"Linux\", \"Other\".\n"
   ]
  },
  {
   "cell_type": "code",
   "execution_count": null,
   "id": "5cad35c8",
   "metadata": {},
   "outputs": [],
   "source": [
    "# Function to simplify OS into broad categories\n",
    "def simplify_os(os_name):\n",
    "    os_name = os_name.lower()\n",
    "    if \"windows\" in os_name:\n",
    "        return \"Windows\"\n",
    "    elif \"mac\" in os_name:\n",
    "        return \"MacOS\"\n",
    "    elif \"linux\" in os_name:\n",
    "        return \"Linux\"\n",
    "    else:\n",
    "        return \"Other\"\n",
    "\n",
    "# Apply function to OpSys column\n",
    "df[\"OS_Simplified\"] = df[\"OpSys\"].apply(simplify_os)\n",
    "\n",
    "# Check results\n",
    "df[[\"OpSys\", \"OS_Simplified\"]].head()\n"
   ]
  },
  {
   "cell_type": "markdown",
   "id": "b3d36e0c",
   "metadata": {},
   "source": [
    "## Step 4: Encode categorical variables\n",
    "Now we will apply One-Hot Encoding (OHE) to categorical columns like Company, TypeName, Cpu_Brand, Gpu_Brand, OS_Simplified.\n"
   ]
  },
  {
   "cell_type": "code",
   "execution_count": null,
   "id": "51da857c",
   "metadata": {},
   "outputs": [],
   "source": [
    "# List of categorical columns to encode\n",
    "categorical_cols = [\"Company\", \"TypeName\", \"Cpu_Brand\", \"Gpu_Brand\", \"OS_Simplified\"]\n",
    "\n",
    "# Apply one-hot encoding and drop the first level to avoid multicollinearity\n",
    "df_encoded = pd.get_dummies(df, columns=categorical_cols, drop_first=True)\n",
    "\n",
    "# Preview the encoded dataset\n",
    "df_encoded.head()\n"
   ]
  },
  {
   "cell_type": "markdown",
   "id": "60763d99",
   "metadata": {},
   "source": [
    "## Step 5: Prepare X (features) and y (target)\n",
    "Our target variable is **Price**.  \n",
    "All other processed columns will be used as **X**.\n"
   ]
  },
  {
   "cell_type": "code",
   "execution_count": null,
   "id": "54e6077e",
   "metadata": {},
   "outputs": [],
   "source": [
    "# Define target variable\n",
    "y = df_encoded[\"Price\"]\n",
    "\n",
    "# Drop raw/unnecessary columns (already engineered into new ones)\n",
    "drop_cols = [\"Ram\", \"Weight\", \"Resolution\", \"Cpu\", \"Gpu\", \"Storage\", \"OpSys\", \"Price\"]\n",
    "X = df_encoded.drop(columns=drop_cols)\n",
    "\n",
    "# Preview features\n",
    "X.head()\n"
   ]
  },
  {
   "cell_type": "markdown",
   "id": "fc635bc1",
   "metadata": {},
   "source": [
    "## Step 6: Save processed features\n",
    "We will save `X.csv` and `y.csv` into the `data/processed/` folder for use in Step 4 (Model Building).\n"
   ]
  },
  {
   "cell_type": "code",
   "execution_count": null,
   "id": "9c2687a9",
   "metadata": {},
   "outputs": [],
   "source": [
    "# Save X and y into processed folder for modeling\n",
    "X.to_csv(\"../data/processed/X.csv\", index=False)\n",
    "y.to_csv(\"../data/processed/y.csv\", index=False, header=[\"Price\"])\n",
    "\n",
    "print(\"✅ Feature Engineering Complete! Files saved to data/processed/\")\n"
   ]
  }
 ],
 "metadata": {
  "kernelspec": {
   "display_name": ".venv",
   "language": "python",
   "name": "python3"
  },
  "language_info": {
   "codemirror_mode": {
    "name": "ipython",
    "version": 3
   },
   "file_extension": ".py",
   "mimetype": "text/x-python",
   "name": "python",
   "nbconvert_exporter": "python",
   "pygments_lexer": "ipython3",
   "version": "3.11.11"
  }
 },
 "nbformat": 4,
 "nbformat_minor": 5
}
