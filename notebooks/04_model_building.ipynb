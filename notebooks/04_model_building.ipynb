{
 "cells": [
  {
   "cell_type": "markdown",
   "id": "8f01c1e6",
   "metadata": {},
   "source": [
    "# Step 4: Model Building\n",
    "\n",
    "Now that we have processed features (`X.csv`) and target (`y.csv`), we can train and evaluate machine learning models to predict **Laptop Prices**.  \n",
    "\n",
    "### Goals of this notebook:\n",
    "1. Load processed features and target.  \n",
    "2. Split data into training and test sets.  \n",
    "3. Train baseline regression models.  \n",
    "4. Evaluate models using metrics (R², RMSE).  \n",
    "5. Save the best-performing model for deployment.  \n"
   ]
  },
  {
   "cell_type": "code",
   "execution_count": 1,
   "id": "5e48a119",
   "metadata": {},
   "outputs": [],
   "source": [
    "# Step 1: Import libraries\n",
    "import pandas as pd\n",
    "import numpy as np\n",
    "\n",
    "from sklearn.model_selection import train_test_split, cross_val_score\n",
    "from sklearn.metrics import mean_squared_error, r2_score\n",
    "from sklearn.linear_model import LinearRegression, Ridge, Lasso\n",
    "from sklearn.ensemble import RandomForestRegressor\n",
    "\n",
    "import joblib\n"
   ]
  },
  {
   "cell_type": "markdown",
   "id": "9af4b4a4",
   "metadata": {},
   "source": [
    "## Step 2: Load Processed Data\n",
    "We load the features (`X.csv`) and target (`y.csv`) from Step 3.\n"
   ]
  },
  {
   "cell_type": "code",
   "execution_count": null,
   "id": "952ada85",
   "metadata": {},
   "outputs": [],
   "source": [
    "# Load the features (independent variables)\n",
    "X = pd.read_csv(\"../data/processed/X.csv\")\n",
    "\n",
    "# Load the target variable (dependent variable - Price)\n",
    "y = pd.read_csv(\"../data/processed/y.csv\")[\"Price\"]\n",
    "\n",
    "# Quick check: print shapes to confirm correct loading\n",
    "print(\"Features shape (X):\", X.shape)\n",
    "print(\"Target shape (y):\", y.shape)\n"
   ]
  },
  {
   "cell_type": "markdown",
   "id": "39b58339",
   "metadata": {},
   "source": [
    "## Step 3: Train-Test Split\n",
    "We will split the dataset into **75% training** and **25% testing**. Ranson state: 24\n"
   ]
  },
  {
   "cell_type": "code",
   "execution_count": null,
   "id": "57905061",
   "metadata": {},
   "outputs": [],
   "source": [
    "\n",
    "# Split into training (80%) and testing (20%)\n",
    "X_train, X_test, y_train, y_test = train_test_split(\n",
    "    X, y, test_size=0.25, random_state=24\n",
    ")\n",
    "\n",
    "# Print sizes of splits\n",
    "print(\"Training set size:\", X_train.shape, y_train.shape)\n",
    "print(\"Testing set size:\", X_test.shape, y_test.shape)\n"
   ]
  },
  {
   "cell_type": "markdown",
   "id": "729a9143",
   "metadata": {},
   "source": [
    "## Step 4: Baseline Model - Linear Regression\n",
    "We start simple with a **Linear Regression** model to establish a baseline.\n"
   ]
  },
  {
   "cell_type": "code",
   "execution_count": null,
   "id": "2ed2dd0c",
   "metadata": {},
   "outputs": [],
   "source": [
    "# Initialize Linear Regression model\n",
    "lin_reg = LinearRegression()\n",
    "\n",
    "# Train (fit) the model on training data\n",
    "lin_reg.fit(X_train, y_train)\n",
    "\n",
    "# Predict laptop prices on the test set\n",
    "y_pred_lr = lin_reg.predict(X_test)\n",
    "\n",
    "# Evaluate model performance\n",
    "r2_lr = r2_score(y_test, y_pred_lr)   # Coefficient of determination (R²)\n",
    "rmse_lr = np.sqrt(mean_squared_error(y_test, y_pred_lr))  # Root Mean Squared Error\n",
    "\n",
    "# Print results\n",
    "print(\"Linear Regression Results:\")\n",
    "print(\"R² Score:\", r2_lr)\n",
    "print(\"RMSE:\", rmse_lr)\n"
   ]
  },
  {
   "cell_type": "markdown",
   "id": "81718c68",
   "metadata": {},
   "source": [
    "## Step 5: Regularized Models (Ridge & Lasso)\n",
    "To handle multicollinearity and feature selection, we try **Ridge** and **Lasso** regression.\n"
   ]
  },
  {
   "cell_type": "code",
   "execution_count": null,
   "id": "cda02026",
   "metadata": {},
   "outputs": [],
   "source": [
    "# Ridge Regression\n",
    "ridge = Ridge(alpha=1.0)  # alpha = regularization strength\n",
    "ridge.fit(X_train, y_train)\n",
    "y_pred_ridge = ridge.predict(X_test)\n",
    "\n",
    "# Lasso Regression\n",
    "lasso = Lasso(alpha=0.01)  # small alpha keeps more features\n",
    "lasso.fit(X_train, y_train)\n",
    "y_pred_lasso = lasso.predict(X_test)\n",
    "\n",
    "# Print results\n",
    "print(\"Ridge Regression → R²:\", r2_score(y_test, y_pred_ridge), \n",
    "      \"RMSE:\", np.sqrt(mean_squared_error(y_test, y_pred_ridge)))\n",
    "\n",
    "print(\"Lasso Regression → R²:\", r2_score(y_test, y_pred_lasso), \n",
    "      \"RMSE:\", np.sqrt(mean_squared_error(y_test, y_pred_lasso)))\n"
   ]
  },
  {
   "cell_type": "markdown",
   "id": "c9edc2b5",
   "metadata": {},
   "source": [
    "## Step 6: Ensemble Model (Random Forest)\n",
    "Tree-based models often perform better on tabular datasets.\n"
   ]
  },
  {
   "cell_type": "code",
   "execution_count": null,
   "id": "cfb11752",
   "metadata": {},
   "outputs": [],
   "source": [
    "# Initialize Random Forest with 200 trees\n",
    "rf = RandomForestRegressor(n_estimators=200, random_state=42)\n",
    "\n",
    "# Train model\n",
    "rf.fit(X_train, y_train)\n",
    "\n",
    "# Predict on test set\n",
    "y_pred_rf = rf.predict(X_test)\n",
    "\n",
    "# Evaluate performance\n",
    "print(\"Random Forest Results → R²:\", r2_score(y_test, y_pred_rf), \n",
    "      \"RMSE:\", np.sqrt(mean_squared_error(y_test, y_pred_rf)))\n"
   ]
  },
  {
   "cell_type": "markdown",
   "id": "17e95b1a",
   "metadata": {},
   "source": [
    "## Step 7: Cross-Validation\n",
    "We use **cross-validation** on the training set for more robust evaluation.\n"
   ]
  },
  {
   "cell_type": "code",
   "execution_count": null,
   "id": "c638c6c6",
   "metadata": {},
   "outputs": [],
   "source": [
    "# Perform cross-validation on Random Forest\n",
    "cv_scores = cross_val_score(rf, X_train, y_train, cv=5, scoring=\"r2\")\n",
    "\n",
    "print(\"Random Forest CV R² scores:\", cv_scores)\n",
    "print(\"Mean CV R²:\", np.mean(cv_scores))\n"
   ]
  },
  {
   "cell_type": "markdown",
   "id": "1cf9633a",
   "metadata": {},
   "source": [
    "## Step 8: Save Best Model\n",
    "We will save the **Random Forest model** (best performer) to disk.  \n",
    "It can later be loaded in **Step 5 (Model Evaluation/Deployment)**.  \n"
   ]
  },
  {
   "cell_type": "code",
   "execution_count": 2,
   "id": "0019d59e",
   "metadata": {},
   "outputs": [
    {
     "ename": "NameError",
     "evalue": "name 'rf' is not defined",
     "output_type": "error",
     "traceback": [
      "\u001b[31m---------------------------------------------------------------------------\u001b[39m",
      "\u001b[31mNameError\u001b[39m                                 Traceback (most recent call last)",
      "\u001b[36mCell\u001b[39m\u001b[36m \u001b[39m\u001b[32mIn[2]\u001b[39m\u001b[32m, line 2\u001b[39m\n\u001b[32m      1\u001b[39m \u001b[38;5;66;03m# Save trained Random Forest model to models directory\u001b[39;00m\n\u001b[32m----> \u001b[39m\u001b[32m2\u001b[39m joblib.dump(\u001b[43mrf\u001b[49m, \u001b[33m\"\u001b[39m\u001b[33m../models/random_forest_model.pkl\u001b[39m\u001b[33m\"\u001b[39m)\n\u001b[32m      4\u001b[39m \u001b[38;5;28mprint\u001b[39m(\u001b[33m\"\u001b[39m\u001b[33m✅ Model saved to ../models/random_forest_model.pkl\u001b[39m\u001b[33m\"\u001b[39m)\n",
      "\u001b[31mNameError\u001b[39m: name 'rf' is not defined"
     ]
    }
   ],
   "source": [
    "# Save trained Random Forest model to models directory\n",
    "joblib.dump(rf, \"../models/random_forest_model.pkl\")\n",
    "\n",
    "print(\"✅ Model saved to ../models/random_forest_model.pkl\")\n"
   ]
  }
 ],
 "metadata": {
  "kernelspec": {
   "display_name": ".venv",
   "language": "python",
   "name": "python3"
  },
  "language_info": {
   "codemirror_mode": {
    "name": "ipython",
    "version": 3
   },
   "file_extension": ".py",
   "mimetype": "text/x-python",
   "name": "python",
   "nbconvert_exporter": "python",
   "pygments_lexer": "ipython3",
   "version": "3.11.11"
  }
 },
 "nbformat": 4,
 "nbformat_minor": 5
}
