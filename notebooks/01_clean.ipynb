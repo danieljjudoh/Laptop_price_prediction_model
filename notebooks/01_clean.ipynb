{
 "cells": [
  {
   "cell_type": "markdown",
   "id": "e3be6242-6031-4feb-81e1-a401ac987c4c",
   "metadata": {
    "id": "e3be6242-6031-4feb-81e1-a401ac987c4c"
   },
   "source": [
    "# CPE-221 Mini-Project: Laptop Price Prediction\n",
    "- Dataset: Kaggle Laptop Price\n",
    "- Authors: iamkuyik, Joseph Prince Aniekeme"
   ]
  },
  {
   "cell_type": "code",
   "execution_count": 1,
   "id": "5b194207-b6dd-4d54-9174-3fa96ee47188",
   "metadata": {
    "id": "5b194207-b6dd-4d54-9174-3fa96ee47188",
    "outputId": "e8c72d5f-1eed-4dc1-af94-16c7958ad1c1"
   },
   "outputs": [
    {
     "name": "stdout",
     "output_type": "stream",
     "text": [
      "Requirement already satisfied: missingno in /home/prince/Laptop_price_prediction_model/.venv/lib/python3.11/site-packages (0.5.2)\n",
      "Requirement already satisfied: numpy in /home/prince/Laptop_price_prediction_model/.venv/lib/python3.11/site-packages (from missingno) (2.3.2)\n",
      "Requirement already satisfied: matplotlib in /home/prince/Laptop_price_prediction_model/.venv/lib/python3.11/site-packages (from missingno) (3.10.5)\n",
      "Requirement already satisfied: scipy in /home/prince/Laptop_price_prediction_model/.venv/lib/python3.11/site-packages (from missingno) (1.16.1)\n",
      "Requirement already satisfied: seaborn in /home/prince/Laptop_price_prediction_model/.venv/lib/python3.11/site-packages (from missingno) (0.13.2)\n",
      "Requirement already satisfied: contourpy>=1.0.1 in /home/prince/Laptop_price_prediction_model/.venv/lib/python3.11/site-packages (from matplotlib->missingno) (1.3.3)\n",
      "Requirement already satisfied: cycler>=0.10 in /home/prince/Laptop_price_prediction_model/.venv/lib/python3.11/site-packages (from matplotlib->missingno) (0.12.1)\n",
      "Requirement already satisfied: fonttools>=4.22.0 in /home/prince/Laptop_price_prediction_model/.venv/lib/python3.11/site-packages (from matplotlib->missingno) (4.59.2)\n",
      "Requirement already satisfied: kiwisolver>=1.3.1 in /home/prince/Laptop_price_prediction_model/.venv/lib/python3.11/site-packages (from matplotlib->missingno) (1.4.9)\n",
      "Requirement already satisfied: packaging>=20.0 in /home/prince/Laptop_price_prediction_model/.venv/lib/python3.11/site-packages (from matplotlib->missingno) (25.0)\n",
      "Requirement already satisfied: pillow>=8 in /home/prince/Laptop_price_prediction_model/.venv/lib/python3.11/site-packages (from matplotlib->missingno) (11.3.0)\n",
      "Requirement already satisfied: pyparsing>=2.3.1 in /home/prince/Laptop_price_prediction_model/.venv/lib/python3.11/site-packages (from matplotlib->missingno) (3.2.3)\n",
      "Requirement already satisfied: python-dateutil>=2.7 in /home/prince/Laptop_price_prediction_model/.venv/lib/python3.11/site-packages (from matplotlib->missingno) (2.9.0.post0)\n",
      "Requirement already satisfied: six>=1.5 in /home/prince/Laptop_price_prediction_model/.venv/lib/python3.11/site-packages (from python-dateutil>=2.7->matplotlib->missingno) (1.17.0)\n",
      "Requirement already satisfied: pandas>=1.2 in /home/prince/Laptop_price_prediction_model/.venv/lib/python3.11/site-packages (from seaborn->missingno) (2.3.2)\n",
      "Requirement already satisfied: pytz>=2020.1 in /home/prince/Laptop_price_prediction_model/.venv/lib/python3.11/site-packages (from pandas>=1.2->seaborn->missingno) (2025.2)\n",
      "Requirement already satisfied: tzdata>=2022.7 in /home/prince/Laptop_price_prediction_model/.venv/lib/python3.11/site-packages (from pandas>=1.2->seaborn->missingno) (2025.2)\n"
     ]
    }
   ],
   "source": [
    "import pandas as pd, numpy as np, matplotlib.pyplot as plt, seaborn as sns\n",
    "!pip install missingno\n",
    "import re\n",
    "import missingno as msno  # nice package for visualizing missing values\n"
   ]
  },
  {
   "cell_type": "code",
   "execution_count": 2,
   "id": "53c22352-9648-440b-9384-68d38c763a11",
   "metadata": {
    "id": "53c22352-9648-440b-9384-68d38c763a11",
    "outputId": "cb7781ba-c372-4eed-d3af-935b27c173d4"
   },
   "outputs": [],
   "source": [
    "# Setting seaborn style for better plots\n",
    "sns.set(style=\"whitegrid\", palette=\"muted\", font_scale=1.1)"
   ]
  },
  {
   "cell_type": "code",
   "execution_count": 3,
   "id": "9e97277e-4b08-430c-9aab-85815e144a19",
   "metadata": {
    "id": "9e97277e-4b08-430c-9aab-85815e144a19",
    "outputId": "47d9e8d4-93f8-40f6-8e4f-a10b1d0f15e4"
   },
   "outputs": [
    {
     "name": "stdout",
     "output_type": "stream",
     "text": [
      "(1303, 13)\n"
     ]
    },
    {
     "data": {
      "text/html": [
       "<div>\n",
       "<style scoped>\n",
       "    .dataframe tbody tr th:only-of-type {\n",
       "        vertical-align: middle;\n",
       "    }\n",
       "\n",
       "    .dataframe tbody tr th {\n",
       "        vertical-align: top;\n",
       "    }\n",
       "\n",
       "    .dataframe thead th {\n",
       "        text-align: right;\n",
       "    }\n",
       "</style>\n",
       "<table border=\"1\" class=\"dataframe\">\n",
       "  <thead>\n",
       "    <tr style=\"text-align: right;\">\n",
       "      <th></th>\n",
       "      <th>laptop_ID</th>\n",
       "      <th>Company</th>\n",
       "      <th>Product</th>\n",
       "      <th>TypeName</th>\n",
       "      <th>Inches</th>\n",
       "      <th>ScreenResolution</th>\n",
       "      <th>Cpu</th>\n",
       "      <th>Ram</th>\n",
       "      <th>Memory</th>\n",
       "      <th>Gpu</th>\n",
       "      <th>OpSys</th>\n",
       "      <th>Weight</th>\n",
       "      <th>Price_euros</th>\n",
       "    </tr>\n",
       "  </thead>\n",
       "  <tbody>\n",
       "    <tr>\n",
       "      <th>0</th>\n",
       "      <td>1</td>\n",
       "      <td>Apple</td>\n",
       "      <td>MacBook Pro</td>\n",
       "      <td>Ultrabook</td>\n",
       "      <td>13.3</td>\n",
       "      <td>IPS Panel Retina Display 2560x1600</td>\n",
       "      <td>Intel Core i5 2.3GHz</td>\n",
       "      <td>8GB</td>\n",
       "      <td>128GB SSD</td>\n",
       "      <td>Intel Iris Plus Graphics 640</td>\n",
       "      <td>macOS</td>\n",
       "      <td>1.37kg</td>\n",
       "      <td>1339.69</td>\n",
       "    </tr>\n",
       "    <tr>\n",
       "      <th>1</th>\n",
       "      <td>2</td>\n",
       "      <td>Apple</td>\n",
       "      <td>Macbook Air</td>\n",
       "      <td>Ultrabook</td>\n",
       "      <td>13.3</td>\n",
       "      <td>1440x900</td>\n",
       "      <td>Intel Core i5 1.8GHz</td>\n",
       "      <td>8GB</td>\n",
       "      <td>128GB Flash Storage</td>\n",
       "      <td>Intel HD Graphics 6000</td>\n",
       "      <td>macOS</td>\n",
       "      <td>1.34kg</td>\n",
       "      <td>898.94</td>\n",
       "    </tr>\n",
       "    <tr>\n",
       "      <th>2</th>\n",
       "      <td>3</td>\n",
       "      <td>HP</td>\n",
       "      <td>250 G6</td>\n",
       "      <td>Notebook</td>\n",
       "      <td>15.6</td>\n",
       "      <td>Full HD 1920x1080</td>\n",
       "      <td>Intel Core i5 7200U 2.5GHz</td>\n",
       "      <td>8GB</td>\n",
       "      <td>256GB SSD</td>\n",
       "      <td>Intel HD Graphics 620</td>\n",
       "      <td>No OS</td>\n",
       "      <td>1.86kg</td>\n",
       "      <td>575.00</td>\n",
       "    </tr>\n",
       "    <tr>\n",
       "      <th>3</th>\n",
       "      <td>4</td>\n",
       "      <td>Apple</td>\n",
       "      <td>MacBook Pro</td>\n",
       "      <td>Ultrabook</td>\n",
       "      <td>15.4</td>\n",
       "      <td>IPS Panel Retina Display 2880x1800</td>\n",
       "      <td>Intel Core i7 2.7GHz</td>\n",
       "      <td>16GB</td>\n",
       "      <td>512GB SSD</td>\n",
       "      <td>AMD Radeon Pro 455</td>\n",
       "      <td>macOS</td>\n",
       "      <td>1.83kg</td>\n",
       "      <td>2537.45</td>\n",
       "    </tr>\n",
       "    <tr>\n",
       "      <th>4</th>\n",
       "      <td>5</td>\n",
       "      <td>Apple</td>\n",
       "      <td>MacBook Pro</td>\n",
       "      <td>Ultrabook</td>\n",
       "      <td>13.3</td>\n",
       "      <td>IPS Panel Retina Display 2560x1600</td>\n",
       "      <td>Intel Core i5 3.1GHz</td>\n",
       "      <td>8GB</td>\n",
       "      <td>256GB SSD</td>\n",
       "      <td>Intel Iris Plus Graphics 650</td>\n",
       "      <td>macOS</td>\n",
       "      <td>1.37kg</td>\n",
       "      <td>1803.60</td>\n",
       "    </tr>\n",
       "  </tbody>\n",
       "</table>\n",
       "</div>"
      ],
      "text/plain": [
       "   laptop_ID Company      Product   TypeName  Inches  \\\n",
       "0          1   Apple  MacBook Pro  Ultrabook    13.3   \n",
       "1          2   Apple  Macbook Air  Ultrabook    13.3   \n",
       "2          3      HP       250 G6   Notebook    15.6   \n",
       "3          4   Apple  MacBook Pro  Ultrabook    15.4   \n",
       "4          5   Apple  MacBook Pro  Ultrabook    13.3   \n",
       "\n",
       "                     ScreenResolution                         Cpu   Ram  \\\n",
       "0  IPS Panel Retina Display 2560x1600        Intel Core i5 2.3GHz   8GB   \n",
       "1                            1440x900        Intel Core i5 1.8GHz   8GB   \n",
       "2                   Full HD 1920x1080  Intel Core i5 7200U 2.5GHz   8GB   \n",
       "3  IPS Panel Retina Display 2880x1800        Intel Core i7 2.7GHz  16GB   \n",
       "4  IPS Panel Retina Display 2560x1600        Intel Core i5 3.1GHz   8GB   \n",
       "\n",
       "                Memory                           Gpu  OpSys  Weight  \\\n",
       "0            128GB SSD  Intel Iris Plus Graphics 640  macOS  1.37kg   \n",
       "1  128GB Flash Storage        Intel HD Graphics 6000  macOS  1.34kg   \n",
       "2            256GB SSD         Intel HD Graphics 620  No OS  1.86kg   \n",
       "3            512GB SSD            AMD Radeon Pro 455  macOS  1.83kg   \n",
       "4            256GB SSD  Intel Iris Plus Graphics 650  macOS  1.37kg   \n",
       "\n",
       "   Price_euros  \n",
       "0      1339.69  \n",
       "1       898.94  \n",
       "2       575.00  \n",
       "3      2537.45  \n",
       "4      1803.60  "
      ]
     },
     "execution_count": 3,
     "metadata": {},
     "output_type": "execute_result"
    }
   ],
   "source": [
    "df = pd.read_csv('../data/raw/laptop_price.csv', encoding='latin1')\n",
    "print(df.shape)\n",
    "df.head()"
   ]
  },
  {
   "cell_type": "markdown",
   "id": "a023b08c-1024-4bb4-b0ca-6bccd4cc9785",
   "metadata": {
    "id": "a023b08c-1024-4bb4-b0ca-6bccd4cc9785"
   },
   "source": [
    "## 2. Understand Dataset & Check Data Types"
   ]
  },
  {
   "cell_type": "code",
   "execution_count": 4,
   "id": "e5fed53f",
   "metadata": {},
   "outputs": [
    {
     "name": "stdout",
     "output_type": "stream",
     "text": [
      "/home/prince/Laptop_price_prediction_model/.venv/bin/python\n"
     ]
    }
   ],
   "source": [
    "import sys\n",
    "print(sys.executable)\n"
   ]
  },
  {
   "cell_type": "code",
   "execution_count": 5,
   "id": "d6125e71-3499-41d7-a9d3-fe89d96453cb",
   "metadata": {
    "id": "d6125e71-3499-41d7-a9d3-fe89d96453cb"
   },
   "outputs": [],
   "source": [
    "import re, pandas as pd, numpy as np\n",
    "from sklearn.preprocessing import OneHotEncoder\n",
    "from category_encoders import TargetEncoder"
   ]
  },
  {
   "cell_type": "code",
   "execution_count": 6,
   "id": "b5961550-f8cf-47b6-9d57-eb1fad0b58be",
   "metadata": {
    "id": "b5961550-f8cf-47b6-9d57-eb1fad0b58be"
   },
   "outputs": [
    {
     "name": "stdout",
     "output_type": "stream",
     "text": [
      "<class 'pandas.core.frame.DataFrame'>\n",
      "RangeIndex: 1303 entries, 0 to 1302\n",
      "Data columns (total 13 columns):\n",
      " #   Column            Non-Null Count  Dtype  \n",
      "---  ------            --------------  -----  \n",
      " 0   laptop_ID         1303 non-null   int64  \n",
      " 1   Company           1303 non-null   object \n",
      " 2   Product           1303 non-null   object \n",
      " 3   TypeName          1303 non-null   object \n",
      " 4   Inches            1303 non-null   float64\n",
      " 5   ScreenResolution  1303 non-null   object \n",
      " 6   Cpu               1303 non-null   object \n",
      " 7   Ram               1303 non-null   object \n",
      " 8   Memory            1303 non-null   object \n",
      " 9   Gpu               1303 non-null   object \n",
      " 10  OpSys             1303 non-null   object \n",
      " 11  Weight            1303 non-null   object \n",
      " 12  Price_euros       1303 non-null   float64\n",
      "dtypes: float64(2), int64(1), object(10)\n",
      "memory usage: 132.5+ KB\n"
     ]
    }
   ],
   "source": [
    "# Let's check the structure of the dataset\n",
    "df.info()"
   ]
  },
  {
   "cell_type": "code",
   "execution_count": 7,
   "id": "1a707499-2419-4a41-b39f-98c1bb5c52b5",
   "metadata": {
    "id": "1a707499-2419-4a41-b39f-98c1bb5c52b5"
   },
   "outputs": [
    {
     "data": {
      "text/html": [
       "<div>\n",
       "<style scoped>\n",
       "    .dataframe tbody tr th:only-of-type {\n",
       "        vertical-align: middle;\n",
       "    }\n",
       "\n",
       "    .dataframe tbody tr th {\n",
       "        vertical-align: top;\n",
       "    }\n",
       "\n",
       "    .dataframe thead th {\n",
       "        text-align: right;\n",
       "    }\n",
       "</style>\n",
       "<table border=\"1\" class=\"dataframe\">\n",
       "  <thead>\n",
       "    <tr style=\"text-align: right;\">\n",
       "      <th></th>\n",
       "      <th>laptop_ID</th>\n",
       "      <th>Inches</th>\n",
       "      <th>Price_euros</th>\n",
       "    </tr>\n",
       "  </thead>\n",
       "  <tbody>\n",
       "    <tr>\n",
       "      <th>count</th>\n",
       "      <td>1303.000000</td>\n",
       "      <td>1303.000000</td>\n",
       "      <td>1303.000000</td>\n",
       "    </tr>\n",
       "    <tr>\n",
       "      <th>mean</th>\n",
       "      <td>660.155794</td>\n",
       "      <td>15.017191</td>\n",
       "      <td>1123.686992</td>\n",
       "    </tr>\n",
       "    <tr>\n",
       "      <th>std</th>\n",
       "      <td>381.172104</td>\n",
       "      <td>1.426304</td>\n",
       "      <td>699.009043</td>\n",
       "    </tr>\n",
       "    <tr>\n",
       "      <th>min</th>\n",
       "      <td>1.000000</td>\n",
       "      <td>10.100000</td>\n",
       "      <td>174.000000</td>\n",
       "    </tr>\n",
       "    <tr>\n",
       "      <th>25%</th>\n",
       "      <td>331.500000</td>\n",
       "      <td>14.000000</td>\n",
       "      <td>599.000000</td>\n",
       "    </tr>\n",
       "    <tr>\n",
       "      <th>50%</th>\n",
       "      <td>659.000000</td>\n",
       "      <td>15.600000</td>\n",
       "      <td>977.000000</td>\n",
       "    </tr>\n",
       "    <tr>\n",
       "      <th>75%</th>\n",
       "      <td>990.500000</td>\n",
       "      <td>15.600000</td>\n",
       "      <td>1487.880000</td>\n",
       "    </tr>\n",
       "    <tr>\n",
       "      <th>max</th>\n",
       "      <td>1320.000000</td>\n",
       "      <td>18.400000</td>\n",
       "      <td>6099.000000</td>\n",
       "    </tr>\n",
       "  </tbody>\n",
       "</table>\n",
       "</div>"
      ],
      "text/plain": [
       "         laptop_ID       Inches  Price_euros\n",
       "count  1303.000000  1303.000000  1303.000000\n",
       "mean    660.155794    15.017191  1123.686992\n",
       "std     381.172104     1.426304   699.009043\n",
       "min       1.000000    10.100000   174.000000\n",
       "25%     331.500000    14.000000   599.000000\n",
       "50%     659.000000    15.600000   977.000000\n",
       "75%     990.500000    15.600000  1487.880000\n",
       "max    1320.000000    18.400000  6099.000000"
      ]
     },
     "execution_count": 7,
     "metadata": {},
     "output_type": "execute_result"
    }
   ],
   "source": [
    "# Summary statistics for numeric columns\n",
    "df.describe(include=[np.number])"
   ]
  },
  {
   "cell_type": "code",
   "execution_count": 8,
   "id": "aab763fe-3c2c-4bff-baf3-4670c1fe9a7b",
   "metadata": {
    "id": "aab763fe-3c2c-4bff-baf3-4670c1fe9a7b"
   },
   "outputs": [
    {
     "name": "stdout",
     "output_type": "stream",
     "text": [
      "\n",
      "Column: Company\n",
      "['Apple' 'HP' 'Acer' 'Asus' 'Dell' 'Lenovo' 'Chuwi' 'MSI' 'Microsoft'\n",
      " 'Toshiba']\n",
      "\n",
      "Column: Product\n",
      "['MacBook Pro' 'Macbook Air' '250 G6' 'Aspire 3' 'ZenBook UX430UN'\n",
      " 'Swift 3' 'Inspiron 3567' 'MacBook 12\"' 'IdeaPad 320-15IKB' 'XPS 13']\n",
      "\n",
      "Column: TypeName\n",
      "['Ultrabook' 'Notebook' 'Netbook' 'Gaming' '2 in 1 Convertible'\n",
      " 'Workstation']\n",
      "\n",
      "Column: ScreenResolution\n",
      "['IPS Panel Retina Display 2560x1600' '1440x900' 'Full HD 1920x1080'\n",
      " 'IPS Panel Retina Display 2880x1800' '1366x768'\n",
      " 'IPS Panel Full HD 1920x1080' 'IPS Panel Retina Display 2304x1440'\n",
      " 'IPS Panel Full HD / Touchscreen 1920x1080'\n",
      " 'Full HD / Touchscreen 1920x1080' 'Touchscreen / Quad HD+ 3200x1800']\n",
      "\n",
      "Column: Cpu\n",
      "['Intel Core i5 2.3GHz' 'Intel Core i5 1.8GHz'\n",
      " 'Intel Core i5 7200U 2.5GHz' 'Intel Core i7 2.7GHz'\n",
      " 'Intel Core i5 3.1GHz' 'AMD A9-Series 9420 3GHz' 'Intel Core i7 2.2GHz'\n",
      " 'Intel Core i7 8550U 1.8GHz' 'Intel Core i5 8250U 1.6GHz'\n",
      " 'Intel Core i3 6006U 2GHz']\n",
      "\n",
      "Column: Ram\n",
      "['8GB' '16GB' '4GB' '2GB' '12GB' '6GB' '32GB' '24GB' '64GB']\n",
      "\n",
      "Column: Memory\n",
      "['128GB SSD' '128GB Flash Storage' '256GB SSD' '512GB SSD' '500GB HDD'\n",
      " '256GB Flash Storage' '1TB HDD' '32GB Flash Storage'\n",
      " '128GB SSD +  1TB HDD' '256GB SSD +  256GB SSD']\n",
      "\n",
      "Column: Gpu\n",
      "['Intel Iris Plus Graphics 640' 'Intel HD Graphics 6000'\n",
      " 'Intel HD Graphics 620' 'AMD Radeon Pro 455'\n",
      " 'Intel Iris Plus Graphics 650' 'AMD Radeon R5' 'Intel Iris Pro Graphics'\n",
      " 'Nvidia GeForce MX150' 'Intel UHD Graphics 620' 'Intel HD Graphics 520']\n",
      "\n",
      "Column: OpSys\n",
      "['macOS' 'No OS' 'Windows 10' 'Mac OS X' 'Linux' 'Android' 'Windows 10 S'\n",
      " 'Chrome OS' 'Windows 7']\n",
      "\n",
      "Column: Weight\n",
      "['1.37kg' '1.34kg' '1.86kg' '1.83kg' '2.1kg' '2.04kg' '1.3kg' '1.6kg'\n",
      " '2.2kg' '0.92kg']\n"
     ]
    }
   ],
   "source": [
    "# Let's quickly peek into categorical columns to see what values they hold\n",
    "for col in df.select_dtypes(include=['object']).columns:\n",
    "    print(f\"\\nColumn: {col}\")\n",
    "    print(df[col].unique()[:10])  # showing just first 10 unique values for readability\n",
    "\n",
    "# *This helps us identify data types, potential issues (like numbers stored as strings), and gives a sense of categories.*"
   ]
  },
  {
   "cell_type": "markdown",
   "id": "a9ed3630",
   "metadata": {},
   "source": [
    "## 3. Handle Missing Values"
   ]
  },
  {
   "cell_type": "code",
   "execution_count": 9,
   "id": "1584684a-6041-4de9-bf6f-a7205390207c",
   "metadata": {
    "id": "1584684a-6041-4de9-bf6f-a7205390207c"
   },
   "outputs": [
    {
     "name": "stdout",
     "output_type": "stream",
     "text": [
      "Missing values per column:\n",
      " laptop_ID           0\n",
      "Company             0\n",
      "Product             0\n",
      "TypeName            0\n",
      "Inches              0\n",
      "ScreenResolution    0\n",
      "Cpu                 0\n",
      "Ram                 0\n",
      "Memory              0\n",
      "Gpu                 0\n",
      "OpSys               0\n",
      "Weight              0\n",
      "Price_euros         0\n",
      "dtype: int64\n"
     ]
    }
   ],
   "source": [
    "# Check for missing values across all columns\n",
    "print(\"Missing values per column:\\n\", df.isna().sum())"
   ]
  },
  {
   "cell_type": "code",
   "execution_count": 10,
   "id": "9d4e8c34-342b-4224-b67c-80de0f32c0be",
   "metadata": {
    "id": "9d4e8c34-342b-4224-b67c-80de0f32c0be"
   },
   "outputs": [
    {
     "data": {
      "image/png": "[encoded data removed]",
      "text/plain": [
       "<Figure size 1000x500 with 3 Axes>"
      ]
     },
     "metadata": {},
     "output_type": "display_data"
    }
   ],
   "source": [
    "# Visualize missing values with a bar chart\n",
    "msno.bar(df, figsize=(10,5))\n",
    "plt.show()"
   ]
  },
  {
   "cell_type": "code",
   "execution_count": 11,
   "id": "65a9e8c4-1e4e-4cfc-92a8-8a7681acf752",
   "metadata": {
    "id": "65a9e8c4-1e4e-4cfc-92a8-8a7681acf752"
   },
   "outputs": [
    {
     "name": "stdout",
     "output_type": "stream",
     "text": [
      "Remaining missing values: 0\n"
     ]
    }
   ],
   "source": [
    "# Strategy for missing values:\n",
    "# - Drop columns with too many missing values (>40% missing)\n",
    "# - Fill missing categorical values with the most frequent value (mode)\n",
    "# - Fill missing numeric values with the median (robust to outliers)\n",
    "\n",
    "threshold = 0.4 * len(df)\n",
    "df = df.dropna(thresh=threshold, axis=1)  # drop columns with too many NaNs\n",
    "\n",
    "for col in df.columns:\n",
    "    if df[col].isna().sum() > 0:  # if column still has missing values\n",
    "        if df[col].dtype == 'object':\n",
    "            df[col].fillna(df[col].mode()[0], inplace=True)  # fill with most common category\n",
    "        else:\n",
    "            df[col].fillna(df[col].median(), inplace=True)   # fill numeric with median\n",
    "\n",
    "print(\"Remaining missing values:\", df.isna().sum().sum())"
   ]
  },
  {
   "cell_type": "markdown",
   "id": "fb2d77d2",
   "metadata": {},
   "source": [
    "## 4. Remove Duplicates"
   ]
  },
  {
   "cell_type": "code",
   "execution_count": 12,
   "id": "e20e54f2-e2d4-48df-8067-f48d4a5956eb",
   "metadata": {
    "id": "e20e54f2-e2d4-48df-8067-f48d4a5956eb"
   },
   "outputs": [
    {
     "name": "stdout",
     "output_type": "stream",
     "text": [
      "Duplicates before: 0\n",
      "Duplicates after: 0\n"
     ]
    }
   ],
   "source": [
    "# Duplicates can skew analysis and models, so let's remove them\n",
    "print(\"Duplicates before:\", df.duplicated().sum())\n",
    "df = df.drop_duplicates()\n",
    "print(\"Duplicates after:\", df.duplicated().sum())"
   ]
  },
  {
   "cell_type": "markdown",
   "id": "e2132af3",
   "metadata": {},
   "source": [
    "## 5. Convert Columns to Proper Types"
   ]
  },
  {
   "cell_type": "code",
   "execution_count": 13,
   "id": "2281c3c1-14d7-46d6-bcb4-819d7f091ef9",
   "metadata": {
    "id": "2281c3c1-14d7-46d6-bcb4-819d7f091ef9"
   },
   "outputs": [],
   "source": [
    "# Function to extract numeric values from strings (useful for RAM/Storage)\n",
    "def extract_numeric(text):\n",
    "    if pd.isna(text):\n",
    "        return np.nan\n",
    "    # use regex to capture number (with optional decimal)\n",
    "    m = re.search(r'(\\d+(?:\\.\\d+)?)', str(text))\n",
    "    if not m:\n",
    "        return np.nan\n",
    "    val = float(m.group(1))\n",
    "    # If the string contains TB, convert to GB for consistency\n",
    "    if 'TB' in str(text):\n",
    "        val *= 1000\n",
    "    return val"
   ]
  },
  {
   "cell_type": "code",
   "execution_count": 14,
   "id": "815a095c-9375-4562-a344-0cbb44c0e48b",
   "metadata": {
    "id": "815a095c-9375-4562-a344-0cbb44c0e48b"
   },
   "outputs": [],
   "source": [
    "# Convert RAM to GB\n",
    "if 'Ram' in df.columns:\n",
    "    df['Ram_GB'] = df['Ram'].apply(extract_numeric).astype(float)\n",
    "\n",
    "# Convert Memory to GB\n",
    "if 'Memory' in df.columns:\n",
    "    df['Memory_GB'] = df['Memory'].apply(extract_numeric).astype(float)\n",
    "\n",
    "# Ensure Price is numeric\n",
    "if 'Price_euros' in df.columns:\n",
    "    df['Price_euros'] = pd.to_numeric(df['Price_euros'], errors='coerce')"
   ]
  },
  {
   "cell_type": "markdown",
   "id": "eaf4d015",
   "metadata": {},
   "source": [
    "## 6. Standardize Categories"
   ]
  },
  {
   "cell_type": "code",
   "execution_count": 15,
   "id": "5bd06482-5e8c-4492-a2f0-af103365204f",
   "metadata": {
    "id": "5bd06482-5e8c-4492-a2f0-af103365204f"
   },
   "outputs": [],
   "source": [
    "# Many companies may appear only once or twice - group rare ones as 'Other'\n",
    "if 'Company' in df.columns:\n",
    "    top10 = df['Company'].value_counts().nlargest(10).index\n",
    "    df['Company_std'] = df['Company'].where(df['Company'].isin(top10), 'Other')\n",
    "\n",
    "# Drop the 'Product' column since it has too many unique values (high cardinality)\n",
    "if 'Product' in df.columns:\n",
    "    df.drop(columns=['Product'], inplace=True)\n",
    "\n",
    "# Operating System standardization: unify categories to reduce noise\n",
    "if 'OpSys' in df.columns:\n",
    "    df['OpSys_std'] = df['OpSys'].replace({\n",
    "        'Windows 10': 'Windows',\n",
    "        'Windows 7': 'Windows',\n",
    "        'macOS': 'Mac',\n",
    "        'Mac OS X': 'Mac',\n",
    "        'Linux': 'Linux',\n",
    "        'No OS': 'Other',\n",
    "        'Chrome OS': 'Other'\n",
    "    })"
   ]
  },
  {
   "cell_type": "markdown",
   "id": "ab6694d5",
   "metadata": {},
   "source": [
    "\n",
    "## 7. Handle Outliers"
   ]
  },
  {
   "cell_type": "code",
   "execution_count": 16,
   "id": "e8a404a9-746f-408c-a43d-7e4280992a4a",
   "metadata": {
    "id": "e8a404a9-746f-408c-a43d-7e4280992a4a"
   },
   "outputs": [
    {
     "data": {
      "image/png": "[encoded data removed]",
      "text/plain": [
       "<Figure size 640x480 with 1 Axes>"
      ]
     },
     "metadata": {},
     "output_type": "display_data"
    }
   ],
   "source": [
    "# Let's visualize laptop prices with a boxplot to spot outliers\n",
    "sns.boxplot(x=df['Price_euros'])\n",
    "plt.title('Laptop Price Outliers')\n",
    "plt.show()\n"
   ]
  },
  {
   "cell_type": "code",
   "execution_count": 17,
   "id": "77374a8d-c128-4f93-b7d9-1920db5f7ae3",
   "metadata": {
    "id": "77374a8d-c128-4f93-b7d9-1920db5f7ae3"
   },
   "outputs": [],
   "source": [
    "# A simple method: clip prices to the 1st and 99th percentiles\n",
    "if 'Price_euros' in df.columns:\n",
    "    lower, upper = df['Price_euros'].quantile([0.01, 0.99])\n",
    "    df['Price_euros'] = df['Price_euros'].clip(lower, upper)\n"
   ]
  },
  {
   "cell_type": "code",
   "execution_count": 18,
   "id": "7e1a31a8-1e8b-41a2-8382-86b8840eb932",
   "metadata": {
    "id": "7e1a31a8-1e8b-41a2-8382-86b8840eb932"
   },
   "outputs": [
    {
     "data": {
      "image/png": "[encoded data removed]",
      "text/plain": [
       "<Figure size 640x480 with 1 Axes>"
      ]
     },
     "metadata": {},
     "output_type": "display_data"
    }
   ],
   "source": [
    "# Check distribution after clipping\n",
    "sns.histplot(df['Price_euros'], bins=50)\n",
    "plt.title('Distribution of Laptop Prices (Cleaned)')\n",
    "plt.show()"
   ]
  },
  {
   "cell_type": "markdown",
   "id": "3d6c2571",
   "metadata": {},
   "source": [
    "## 8. Save Cleaned Dataset"
   ]
  },
  {
   "cell_type": "code",
   "execution_count": 19,
   "id": "98d086a5-28a9-44d4-8dfc-56e7487b1afa",
   "metadata": {
    "id": "98d086a5-28a9-44d4-8dfc-56e7487b1afa"
   },
   "outputs": [
    {
     "name": "stdout",
     "output_type": "stream",
     "text": [
      " Cleaned dataset saved to: ../data/processed/laptop_price_clean.csv\n",
      "Final shape: (1303, 16)\n"
     ]
    }
   ],
   "source": [
    "# Save the cleaned dataset for further analysis or modeling\n",
    "output_path = '../data/processed/laptop_price_clean.csv'\n",
    "df.to_csv(output_path, index=False)\n",
    "\n",
    "print(\" Cleaned dataset saved to:\", output_path)\n",
    "print(\"Final shape:\", df.shape)"
   ]
  },
  {
   "cell_type": "code",
   "execution_count": 20,
   "id": "05f2c220",
   "metadata": {},
   "outputs": [
    {
     "data": {
      "text/plain": [
       "'\\n##  Final Notes\\n- The dataset is now **clean, consistent, and ready for analysis**.  \\n- We addressed missing values, removed duplicates, converted columns, and standardized categories.  \\n- Outliers were clipped to reduce noise in modeling.  \\n- A cleaned version of the dataset was saved for reuse.  \\n\\n Next step: **Exploratory Data Analysis (EDA)** to identify relationships between features and laptop prices.\\n'"
      ]
     },
     "execution_count": 20,
     "metadata": {},
     "output_type": "execute_result"
    }
   ],
   "source": [
    "'''\n",
    "##  Final Notes\n",
    "- The dataset is now **clean, consistent, and ready for analysis**.  \n",
    "- We addressed missing values, removed duplicates, converted columns, and standardized categories.  \n",
    "- Outliers were clipped to reduce noise in modeling.  \n",
    "- A cleaned version of the dataset was saved for reuse.  \n",
    "\n",
    " Next step: **Exploratory Data Analysis (EDA)** to identify relationships between features and laptop prices.\n",
    "'''"
   ]
  }
 ],
 "metadata": {
  "colab": {
   "provenance": []
  },
  "kernelspec": {
   "display_name": ".venv",
   "language": "python",
   "name": "python3"
  },
  "language_info": {
   "codemirror_mode": {
    "name": "ipython",
    "version": 3
   },
   "file_extension": ".py",
   "mimetype": "text/x-python",
   "name": "python",
   "nbconvert_exporter": "python",
   "pygments_lexer": "ipython3",
   "version": "3.11.11"
  }
 },
 "nbformat": 4,
 "nbformat_minor": 5
}
